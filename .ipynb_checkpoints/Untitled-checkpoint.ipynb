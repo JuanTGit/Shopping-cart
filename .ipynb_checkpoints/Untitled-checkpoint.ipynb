{
 "cells": [
  {
   "cell_type": "code",
   "execution_count": 3,
   "id": "0a1c925d",
   "metadata": {},
   "outputs": [
    {
     "name": "stdout",
     "output_type": "stream",
     "text": [
      "Selection: shop/view items/checkout: shop\n",
      "Selection: \"Add\" or \"Delete\" items: add\n",
      "What would you like to add?: pineapple\n",
      "How many would you like to add?: 1\n",
      "How much does pineapple cost?: 2\n",
      "Would you like to add another item? (Yes/No): no\n",
      "Selection: shop/view items/checkout: checkout\n",
      "Thank you for shopping!\n",
      "Total amount: $2.00\n"
     ]
    }
   ],
   "source": [
    "# Build a shopping cart program with the following capabilities:\n",
    "\n",
    "# 1) Takes in an input\n",
    "# 2) Stores user input into a dictionary or list\n",
    "# 3) The User can add or delete items\n",
    "# 4) The User can see current shopping list\n",
    "# 5) The program Loops until user 'quits'\n",
    "# 6) Upon quiting the program, prints out a receipt of the items with total and quantity.\n",
    "\n",
    "\n",
    "cart={}\n",
    "def shopping_cart():\n",
    "    #While loop for user input until checkout.\n",
    "    while True: \n",
    "        ask_customer = input(\"Selection: shop/view items/checkout: \").lower()\n",
    "        if ask_customer == 'shop':\n",
    "            ask_shop = input('Selection: \"Add\" or \"Delete\" items: ').lower()\n",
    "            if ask_shop == 'delete':\n",
    "                 removed_cart = cart.pop(input(\"What would you like to remove?: \"))\n",
    "                    \n",
    "                    \n",
    "            if ask_shop == 'add':\n",
    "                #While loop for user input to shop.\n",
    "                while True:\n",
    "                    product = input(\"What would you like to add?: \")\n",
    "                    how_many = int(input(\"How many would you like to add?: \"))\n",
    "                    cost = float(input (f\"How much does {product} cost?: \"))\n",
    "                    cart[product] = [how_many, cost]\n",
    "                    ask_again = input (\"Would you like to add another item? (Yes/No): \").lower()\n",
    "            \n",
    "                    if ask_again == 'no':\n",
    "                        break\n",
    "                    elif ask_again != 'yes':\n",
    "                        print('Please enter yes or no: ')\n",
    "                        \n",
    "        #elif customer inputs view items.                \n",
    "        elif ask_customer == 'view items':\n",
    "            print('You currently have:')\n",
    "            for item in cart.keys():\n",
    "                print (f'\\n{item}')\n",
    "                \n",
    "        #elif customer inputs checkout.         \n",
    "        elif ask_customer == 'checkout':\n",
    "            grand_total= []\n",
    "            for q in cart.keys():\n",
    "                item_1 = cart[q]\n",
    "                item_total = item_1[0]*item_1[1]\n",
    "                grand_total.append(item_total)\n",
    "            subtotal = \"{:.2f}\".format(sum(grand_total))   \n",
    "            print ('Thank you for shopping!')\n",
    "            print(f'Total amount: ${subtotal}')\n",
    "            break\n",
    "                \n",
    "        else:\n",
    "            print ('Not an input please try again.')\n",
    "            \n",
    "\n",
    "shopping_cart()"
   ]
  },
  {
   "cell_type": "code",
   "execution_count": null,
   "id": "c9e7572e",
   "metadata": {},
   "outputs": [],
   "source": []
  }
 ],
 "metadata": {
  "kernelspec": {
   "display_name": "Python 3 (ipykernel)",
   "language": "python",
   "name": "python3"
  },
  "language_info": {
   "codemirror_mode": {
    "name": "ipython",
    "version": 3
   },
   "file_extension": ".py",
   "mimetype": "text/x-python",
   "name": "python",
   "nbconvert_exporter": "python",
   "pygments_lexer": "ipython3",
   "version": "3.9.7"
  }
 },
 "nbformat": 4,
 "nbformat_minor": 5
}
